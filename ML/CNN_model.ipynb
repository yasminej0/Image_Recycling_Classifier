{
 "cells": [
  {
   "cell_type": "code",
   "execution_count": 1,
   "id": "ab11ecdd",
   "metadata": {},
   "outputs": [],
   "source": [
    "from tensorflow.keras.models import Sequential\n",
    "from tensorflow.keras.layers import Conv2D, MaxPooling2D, Dense, Flatten,Activation,Dropout\n",
    "from tensorflow.keras import optimizers\n",
    "from tensorflow.keras.callbacks import ModelCheckpoint\n",
    "import scipy"
   ]
  },
  {
   "cell_type": "code",
   "execution_count": 19,
   "id": "c9860d5e",
   "metadata": {
    "scrolled": true
   },
   "outputs": [
    {
     "name": "stdout",
     "output_type": "stream",
     "text": [
      "Collecting pillowNote: you may need to restart the kernel to use updated packages.\n",
      "\n",
      "  Downloading Pillow-9.4.0-cp310-cp310-win_amd64.whl (2.5 MB)\n",
      "     ---------------------------------------- 2.5/2.5 MB 1.1 MB/s eta 0:00:00\n",
      "Installing collected packages: pillow\n",
      "Successfully installed pillow-9.4.0\n"
     ]
    }
   ],
   "source": [
    "pip install pillow"
   ]
  },
  {
   "cell_type": "code",
   "execution_count": 2,
   "id": "74db781a",
   "metadata": {},
   "outputs": [],
   "source": [
    "import os,shutil"
   ]
  },
  {
   "cell_type": "markdown",
   "source": [
    "# Import data"
   ],
   "metadata": {
    "collapsed": false
   },
   "id": "d7241ea2de8a85d9"
  },
  {
   "cell_type": "code",
   "execution_count": 3,
   "id": "cf76c862",
   "metadata": {},
   "outputs": [],
   "source": [
    "train_dir = 'DATASET/TRAIN/'\n",
    "test_dir = 'DATASET/TEST/'"
   ]
  },
  {
   "cell_type": "code",
   "execution_count": 4,
   "id": "b2aedac9",
   "metadata": {},
   "outputs": [
    {
     "name": "stdout",
     "output_type": "stream",
     "text": [
      "12565\n",
      "9999\n",
      "1401\n",
      "1112\n"
     ]
    }
   ],
   "source": [
    "print(len(os.listdir(train_dir+'O')))\n",
    "print(len(os.listdir(train_dir+'R')))\n",
    "print(len(os.listdir(test_dir+'O')))\n",
    "print(len(os.listdir(test_dir+'R')))"
   ]
  },
  {
   "cell_type": "code",
   "execution_count": 5,
   "id": "50dd47d1",
   "metadata": {},
   "outputs": [
    {
     "name": "stdout",
     "output_type": "stream",
     "text": [
      "Found 22564 images belonging to 2 classes.\n",
      "Found 2513 images belonging to 2 classes.\n"
     ]
    }
   ],
   "source": [
    "from tensorflow.keras.preprocessing.image import ImageDataGenerator\n",
    "\n",
    "#all images will be rescaled by 1./255\n",
    "train_datagen=ImageDataGenerator(rescale=1./255)\n",
    "test_datagen=ImageDataGenerator(rescale=1./255)\n",
    "\n",
    "train_generator=train_datagen.flow_from_directory(\n",
    "    #this is the target directory\n",
    "train_dir,\n",
    "    #all images will be resized to 150x150\n",
    "target_size=(150,150),\n",
    "batch_size=32,\n",
    "    #since we use binary_crossentropy Loss, we need binary labels\n",
    "class_mode='binary')\n",
    "\n",
    "test_generator=test_datagen.flow_from_directory(\n",
    "test_dir,\n",
    "target_size=(150,150),\n",
    "batch_size=32,\n",
    "class_mode='binary')"
   ]
  },
  {
   "cell_type": "markdown",
   "source": [
    "# Train CNN model"
   ],
   "metadata": {
    "collapsed": false
   },
   "id": "57aeb0ba0f114300"
  },
  {
   "cell_type": "code",
   "execution_count": 6,
   "id": "d4869e54",
   "metadata": {},
   "outputs": [],
   "source": [
    "model = Sequential()\n",
    "model.add(Conv2D(32,(3,3),input_shape = (150,150,3)))\n",
    "model.add(Activation(\"relu\"))\n",
    "model.add(MaxPooling2D())\n",
    "\n",
    "model.add(Conv2D(64,(3,3)))  \n",
    "model.add(Activation(\"relu\"))\n",
    "model.add(MaxPooling2D())\n",
    "\n",
    "model.add(Conv2D(128,(3,3)))\n",
    "model.add(Activation(\"relu\"))\n",
    "model.add(MaxPooling2D())\n",
    "\n",
    "model.add(Flatten())\n",
    "model.add(Dense(256))\n",
    "model.add(Activation(\"relu\"))\n",
    "model.add(Dropout(0.5))\n",
    "model.add(Dense(64))\n",
    "model.add(Activation(\"relu\"))\n",
    "model.add(Dropout(0.5))\n",
    "model.add(Dense(1)) # output\n",
    "model.add(Activation(\"sigmoid\"))\n",
    "\n",
    "model.compile(loss = \"binary_crossentropy\",\n",
    "              optimizer = \"adam\",\n",
    "              metrics = [\"accuracy\"])\n",
    "\n",
    "#checkpoint=ModelCheckpoint(filename='./best_model.h5',monitor=\"val_acc\",mode=\"max\",save_best_only=True,verbose=1)\n",
    "#callbacks=[checkpoint]\n",
    "\n"
   ]
  },
  {
   "cell_type": "code",
   "execution_count": 9,
   "id": "986646cd",
   "metadata": {},
   "outputs": [
    {
     "name": "stderr",
     "output_type": "stream",
     "text": [
      "C:\\Users\\toshiba\\AppData\\Local\\Temp\\ipykernel_11660\\3071388397.py:1: UserWarning: `Model.fit_generator` is deprecated and will be removed in a future version. Please use `Model.fit`, which supports generators.\n",
      "  hist = model.fit_generator(\n"
     ]
    },
    {
     "name": "stdout",
     "output_type": "stream",
     "text": [
      "Epoch 1/10\n",
      "706/706 [==============================] - 1346s 2s/step - loss: 0.2467 - accuracy: 0.9066 - val_loss: 0.2592 - val_accuracy: 0.9029\n",
      "Epoch 2/10\n",
      "706/706 [==============================] - 1577s 2s/step - loss: 0.2063 - accuracy: 0.9233 - val_loss: 0.2459 - val_accuracy: 0.9152\n",
      "Epoch 3/10\n",
      "706/706 [==============================] - 1169s 2s/step - loss: 0.1696 - accuracy: 0.9362 - val_loss: 0.3382 - val_accuracy: 0.8938\n",
      "Epoch 4/10\n",
      "706/706 [==============================] - 1120s 2s/step - loss: 0.1366 - accuracy: 0.9496 - val_loss: 0.4950 - val_accuracy: 0.8814\n",
      "Epoch 5/10\n",
      "706/706 [==============================] - 1137s 2s/step - loss: 0.1116 - accuracy: 0.9594 - val_loss: 0.3857 - val_accuracy: 0.8981\n",
      "Epoch 6/10\n",
      "706/706 [==============================] - 1126s 2s/step - loss: 0.0990 - accuracy: 0.9668 - val_loss: 0.4059 - val_accuracy: 0.9033\n",
      "Epoch 7/10\n",
      "706/706 [==============================] - 1121s 2s/step - loss: 0.0764 - accuracy: 0.9744 - val_loss: 0.5190 - val_accuracy: 0.8930\n",
      "Epoch 8/10\n",
      "706/706 [==============================] - 1138s 2s/step - loss: 0.0707 - accuracy: 0.9766 - val_loss: 0.5056 - val_accuracy: 0.8914\n",
      "Epoch 9/10\n",
      "706/706 [==============================] - 1275s 2s/step - loss: 0.0700 - accuracy: 0.9764 - val_loss: 0.5006 - val_accuracy: 0.8878\n",
      "Epoch 10/10\n",
      "706/706 [==============================] - 1387s 2s/step - loss: 0.0561 - accuracy: 0.9814 - val_loss: 0.6133 - val_accuracy: 0.8878\n"
     ]
    }
   ],
   "source": [
    "hist = model.fit_generator(\n",
    "        train_generator,\n",
    "        epochs=10,\n",
    "        validation_data = test_generator)\n",
    "        #callbacks=callbacks"
   ]
  },
  {
   "cell_type": "code",
   "execution_count": 10,
   "id": "bd12718d",
   "metadata": {},
   "outputs": [],
   "source": [
    "model.save(\"my_CNN_model.h5\")"
   ]
  },
  {
   "cell_type": "code",
   "execution_count": null,
   "id": "10f4061a",
   "metadata": {},
   "outputs": [],
   "source": []
  }
 ],
 "metadata": {
  "kernelspec": {
   "display_name": "Python 3 (ipykernel)",
   "language": "python",
   "name": "python3"
  },
  "language_info": {
   "codemirror_mode": {
    "name": "ipython",
    "version": 3
   },
   "file_extension": ".py",
   "mimetype": "text/x-python",
   "name": "python",
   "nbconvert_exporter": "python",
   "pygments_lexer": "ipython3",
   "version": "3.10.8"
  }
 },
 "nbformat": 4,
 "nbformat_minor": 5
}
